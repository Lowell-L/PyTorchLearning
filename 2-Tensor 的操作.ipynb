{
 "cells": [
  {
   "cell_type": "markdown",
   "metadata": {},
   "source": [
    "# 2 Tensor 的操作"
   ]
  },
  {
   "cell_type": "code",
   "execution_count": 57,
   "metadata": {},
   "outputs": [],
   "source": [
    "import torch\n",
    "import numpy as np"
   ]
  },
  {
   "cell_type": "markdown",
   "metadata": {},
   "source": [
    "## 2.1 拼接"
   ]
  },
  {
   "cell_type": "markdown",
   "metadata": {},
   "source": [
    "### 1. 将张量序列在原有维度上拼接 torch.cat()"
   ]
  },
  {
   "cell_type": "code",
   "execution_count": null,
   "metadata": {},
   "outputs": [],
   "source": [
    "# torch.cat(tensors, dim=0, out=None)\n",
    "# tensors 表示要拼接的张量序列， dim 表示按照哪个维度进行拼接\n",
    "\n",
    "tensor_1 = torch.rand(2, 3)\n",
    "tensor_2 = torch.rand(2, 3)\n",
    "print(tensor_1)\n",
    "print(tensor_2)"
   ]
  },
  {
   "cell_type": "code",
   "execution_count": 4,
   "metadata": {},
   "outputs": [
    {
     "name": "stdout",
     "output_type": "stream",
     "text": [
      "tensor([[0.7421, 0.6789, 0.3961],\n",
      "        [0.4389, 0.5775, 0.7001],\n",
      "        [0.1187, 0.6341, 0.2575],\n",
      "        [0.2141, 0.4144, 0.5184]])\n"
     ]
    }
   ],
   "source": [
    "tensor_cat = torch.cat([tensor_1, tensor_2], 0)\n",
    "print(tensor_cat)"
   ]
  },
  {
   "cell_type": "code",
   "execution_count": 5,
   "metadata": {},
   "outputs": [
    {
     "name": "stdout",
     "output_type": "stream",
     "text": [
      "tensor([[0.6500],\n",
      "        [0.0206]])\n",
      "tensor([[0.7091, 0.9384, 0.9666, 0.2591, 0.6860],\n",
      "        [0.7791, 0.5712, 0.4295, 0.4543, 0.5958]])\n",
      "tensor([[0.7091, 0.9384, 0.9666, 0.2591, 0.6860, 0.6500],\n",
      "        [0.7791, 0.5712, 0.4295, 0.4543, 0.5958, 0.0206]])\n"
     ]
    }
   ],
   "source": [
    "tensor_A = torch.rand(2, 1)\n",
    "tensor_B = torch.rand(2, 5)\n",
    "tensor_cat = torch.cat([tensor_B, tensor_A], 1)\n",
    "print(tensor_A)     # tensor_A.size = [2, 1]\n",
    "print(tensor_B)     # tensor_B.size = [2, 5]\n",
    "print(tensor_cat)   # tensor_cat.size = [2, 6]"
   ]
  },
  {
   "cell_type": "markdown",
   "metadata": {},
   "source": [
    "关于在某个维度上的拼接：以二维张量举例，想象两个二维张量 A，B 是两片辣条，其分别在第一维度 x 和第二维度 y 上各有一个竹签。\n",
    "<br>把 A 和 B 在第一维度上拼接，（如果 Tensors 序列是 [A, B]），也即把辣条 B 沿着辣条 A 的 第一维度 x 的竹签穿进去，A 在上 B 在下。"
   ]
  },
  {
   "cell_type": "markdown",
   "metadata": {},
   "source": [
    "### 2. 将 Tensors 序列在**新建维度**上拼接 torch.stack()"
   ]
  },
  {
   "cell_type": "code",
   "execution_count": 8,
   "metadata": {},
   "outputs": [
    {
     "name": "stdout",
     "output_type": "stream",
     "text": [
      "tensor([[0.8203, 0.2081],\n",
      "        [0.7648, 0.1764]])\n",
      "tensor([[0.4740, 0.7160],\n",
      "        [0.1681, 0.0397]])\n",
      "tensor([[0.5089, 0.7330],\n",
      "        [0.6470, 0.6026]])\n",
      "tensor([[[0.8203, 0.4740, 0.5089],\n",
      "         [0.2081, 0.7160, 0.7330]],\n",
      "\n",
      "        [[0.7648, 0.1681, 0.6470],\n",
      "         [0.1764, 0.0397, 0.6026]]])\n",
      "tensor([[[0.8203, 0.2081],\n",
      "         [0.7648, 0.1764]],\n",
      "\n",
      "        [[0.4740, 0.7160],\n",
      "         [0.1681, 0.0397]],\n",
      "\n",
      "        [[0.5089, 0.7330],\n",
      "         [0.6470, 0.6026]]])\n"
     ]
    }
   ],
   "source": [
    "# torch.stack(tensors, dim=0, out=None)\n",
    "# 功能：将张量在新创建的 dim 维度上进行拼接\n",
    "# tensors: 张量序列\n",
    "# dim: 要拼接的维度\n",
    "\n",
    "tensor1 = torch.rand(2, 2)\n",
    "tensor2 = torch.rand(2, 2)\n",
    "tensor3 = torch.rand(2, 2)\n",
    "print(tensor1)\n",
    "print(tensor2)\n",
    "print(tensor3)\n",
    "\n",
    "tensor_stack = torch.stack([tensor1, tensor2, tensor3], 2)  # 维度数值越大，格局越小\n",
    "print(tensor_stack)     # size = [2, 2, 3]\n",
    "\n",
    "tensor_stack = torch.stack([tensor1, tensor2, tensor3], 0)  # 维度数值越小，格局越大\n",
    "print(tensor_stack)     # size = [3, 2, 2]\n",
    "\n",
    "# 注意两者的区别！！！！"
   ]
  },
  {
   "cell_type": "markdown",
   "metadata": {},
   "source": [
    "## 2.2 切分"
   ]
  },
  {
   "cell_type": "markdown",
   "metadata": {},
   "source": [
    "### 2.2.1 将 Tensor 按照维度 dim 进行平均切分为 chunks 份 torch.chunk()"
   ]
  },
  {
   "cell_type": "code",
   "execution_count": 11,
   "metadata": {},
   "outputs": [
    {
     "name": "stdout",
     "output_type": "stream",
     "text": [
      "tensor([[1., 1., 1., 1., 1., 1., 1.],\n",
      "        [1., 1., 1., 1., 1., 1., 1.]])\n",
      "第1个张量：tensor([[1., 1., 1.],\n",
      "        [1., 1., 1.]])，shape is torch.Size([2, 3])\n",
      "第2个张量：tensor([[1., 1., 1.],\n",
      "        [1., 1., 1.]])，shape is torch.Size([2, 3])\n",
      "第3个张量：tensor([[1.],\n",
      "        [1.]])，shape is torch.Size([2, 1])\n"
     ]
    }
   ],
   "source": [
    "# torch.chunk(input, chunks, dim=0) 其中 chunks 代表分成几份\n",
    "a = torch.ones((2, 7))\n",
    "print(a)\n",
    "list_of_tensors = torch.chunk(a, chunks=3, dim=1)\n",
    "for index, tensor in enumerate(list_of_tensors):\n",
    "    print(\"第{}个张量：{}，shape is {}\".format(index+1, tensor, tensor.shape))\n",
    "\n",
    "# 不能均分的话向上取整，例如此例中 7 分为 3 份，7/3 向上取整为 3，所以前两个 Tensor 为 [2,3]，最后一个为 [2,1]。"
   ]
  },
  {
   "cell_type": "markdown",
   "metadata": {},
   "source": [
    "### 2.2.2 将张量按照维度 dim 依据 split_size_or_sections 进行切分"
   ]
  },
  {
   "cell_type": "code",
   "execution_count": 19,
   "metadata": {},
   "outputs": [
    {
     "name": "stdout",
     "output_type": "stream",
     "text": [
      "tensor([[0.5199, 0.8233, 0.7602, 0.3653, 0.5161, 0.3510, 0.5574],\n",
      "        [0.1024, 0.0302, 0.5910, 0.4883, 0.6167, 0.9588, 0.9437]])\n",
      "(tensor([[0.5199, 0.8233, 0.7602],\n",
      "        [0.1024, 0.0302, 0.5910]]), tensor([[0.3653, 0.5161],\n",
      "        [0.4883, 0.6167]]), tensor([[0.3510, 0.5574],\n",
      "        [0.9588, 0.9437]]))\n",
      "<class 'tuple'>\n"
     ]
    }
   ],
   "source": [
    "# torch.split(tensor, split_size_or_sections, dim=0)\n",
    "# 功能：将张量按照维度 dim 进行平均切分。可以指定每一个分量的切分长度。\n",
    "# split_size_or_sections: 为 int 时，表示每一份的长度，如果不能被整除，则最后一份张量小于其他张量；\n",
    "# 为 list 时，按照 list 元素作为每一个分量的长度切分。如果 list 元素之和不等于切分维度 (dim) 的值，就会报错。\n",
    "a = torch.rand(2, 7)\n",
    "b = torch.split(a, [3, 2, 2], dim=1)\n",
    "print(a)\n",
    "print(b)\n",
    "print(type(b))"
   ]
  },
  {
   "cell_type": "markdown",
   "metadata": {},
   "source": [
    "## 2.3 索引"
   ]
  },
  {
   "cell_type": "markdown",
   "metadata": {},
   "source": [
    "### 2.3.1 torch.index_select()"
   ]
  },
  {
   "cell_type": "code",
   "execution_count": 28,
   "metadata": {},
   "outputs": [
    {
     "name": "stdout",
     "output_type": "stream",
     "text": [
      "tensor([[[0.5910, 0.2471, 0.9979, 0.6209],\n",
      "         [0.4718, 0.5558, 0.3135, 0.3275],\n",
      "         [0.3956, 0.4346, 0.5931, 0.6439],\n",
      "         [0.2736, 0.4478, 0.1543, 0.1686],\n",
      "         [0.4173, 0.1818, 0.6967, 0.5155]],\n",
      "\n",
      "        [[0.6322, 0.7430, 0.6748, 0.1282],\n",
      "         [0.7345, 0.8894, 0.1836, 0.9452],\n",
      "         [0.7236, 0.7168, 0.9930, 0.9584],\n",
      "         [0.6033, 0.6645, 0.6590, 0.6013],\n",
      "         [0.1273, 0.5277, 0.4572, 0.3410]],\n",
      "\n",
      "        [[0.9687, 0.9072, 0.2690, 0.3785],\n",
      "         [0.1890, 0.8304, 0.4572, 0.9037],\n",
      "         [0.2982, 0.4347, 0.7407, 0.9184],\n",
      "         [0.9774, 0.2094, 0.4502, 0.9758],\n",
      "         [0.3592, 0.7270, 0.9872, 0.4378]]])\n",
      "tensor([[[0.4718, 0.5558, 0.3135, 0.3275]],\n",
      "\n",
      "        [[0.7345, 0.8894, 0.1836, 0.9452]],\n",
      "\n",
      "        [[0.1890, 0.8304, 0.4572, 0.9037]]])\n"
     ]
    }
   ],
   "source": [
    "# torch.index_select(input: Tensor, dim: _int, index: Tensor, *, out: Tensor | None = None) -> Tensor\n",
    "# 在维度 dim 上，按照 index 索引将输入的 Tensor 拼接为张量返回。\n",
    "\n",
    "inputTensor = torch.rand(3, 5, 4)\n",
    "print(inputTensor)\n",
    "indexTensor = torch.tensor([1], dtype=int)  # 绝不能使 dtype=float，因此一定要显式标定 dtype=int\n",
    "outTensor = torch.index_select(inputTensor, 1, indexTensor) # 输出各块的第一行\n",
    "print(outTensor)"
   ]
  },
  {
   "cell_type": "markdown",
   "metadata": {},
   "source": [
    "### 2.3.2 torch.masked_select()"
   ]
  },
  {
   "cell_type": "code",
   "execution_count": 33,
   "metadata": {},
   "outputs": [
    {
     "name": "stdout",
     "output_type": "stream",
     "text": [
      "tensor([[7, 6, 2],\n",
      "        [5, 0, 0],\n",
      "        [5, 7, 7]])\n",
      "tensor([[ True, False, False],\n",
      "        [False, False, False],\n",
      "        [False,  True,  True]])\n",
      "tensor([7, 7, 7])\n"
     ]
    }
   ],
   "source": [
    "# torch.masked_select(input: Tensor, mask: Tensor, *, out: Tensor | None = None) -> Tensor\n",
    "# 功能：按照 mask 中的 True 进行索引拼接得到一维张量返回。\n",
    "# mask: 与 input 同形状的布尔类型张量\n",
    "inputTensor = torch.randint(0, 9, size=(3, 3))  # 随机生成整型 3*3 的张量，元素大小在 [0,9) 之间。\n",
    "mask = inputTensor.ge(7)    # eq=, le<= ，ge>=\n",
    "print(inputTensor)\n",
    "print(mask)\n",
    "outTensor = torch.masked_select(inputTensor, mask)\n",
    "print(outTensor)        # 最后返回的是一维张量\n"
   ]
  },
  {
   "cell_type": "markdown",
   "metadata": {},
   "source": [
    "## 2.4 变换"
   ]
  },
  {
   "cell_type": "markdown",
   "metadata": {},
   "source": [
    "### 2.4.1 变换张量的形状 reshape()"
   ]
  },
  {
   "cell_type": "code",
   "execution_count": 49,
   "metadata": {},
   "outputs": [
    {
     "name": "stdout",
     "output_type": "stream",
     "text": [
      "tensor([[7, 0, 5, 7],\n",
      "        [7, 2, 4, 5]])\n",
      "tensor([[[7, 0],\n",
      "         [5, 7]],\n",
      "\n",
      "        [[7, 2],\n",
      "         [4, 5]]])\n",
      "torch.Size([2, 2, 2])\n",
      "tensor(7)\n",
      "tensor([[7, 0, 5, 7],\n",
      "        [5, 2, 4, 5]])\n",
      "tensor([[[7, 0],\n",
      "         [5, 7]],\n",
      "\n",
      "        [[5, 2],\n",
      "         [4, 5]]])\n"
     ]
    }
   ],
   "source": [
    "# torch.reshape(input: Tensor, shape: _size)\n",
    "inputTensor = torch.randint(0, 9, size=(2, 4))\n",
    "print(inputTensor)\n",
    "outTensor = torch.reshape(inputTensor, shape=(-1, 2, 2))    # -1表示这个维度是由其他维度计算出来的\n",
    "print(outTensor)\n",
    "print(outTensor.shape)\n",
    "print(inputTensor[1,0])\n",
    "inputTensor[1, 0] = 5\n",
    "print(inputTensor)\n",
    "print(outTensor)    # 当张量在内存中是连续时，返回的张量和原来的张量共享数据内存，改变一个变量时，另一个变量也会被改变。"
   ]
  },
  {
   "cell_type": "markdown",
   "metadata": {},
   "source": [
    "### 2.4.2 交换张量的维度 torch.transpose()"
   ]
  },
  {
   "cell_type": "code",
   "execution_count": 53,
   "metadata": {},
   "outputs": [
    {
     "name": "stdout",
     "output_type": "stream",
     "text": [
      "tensor([[[0, 8],\n",
      "         [4, 5]],\n",
      "\n",
      "        [[6, 8],\n",
      "         [5, 3]]])\n",
      "tensor([[[0, 8],\n",
      "         [6, 8]],\n",
      "\n",
      "        [[4, 5],\n",
      "         [5, 3]]])\n"
     ]
    }
   ],
   "source": [
    "# torch.transpose()\n",
    "# 功能：交换张量的两个维度。常用于图像的变换，比如把c*h*w变换为h*w*c。\n",
    "inputTensor = torch.randint(0, 9, (2, 2, 2))\n",
    "print(inputTensor)\n",
    "print(torch.transpose(inputTensor, dim0=0, dim1=1))\n"
   ]
  },
  {
   "cell_type": "markdown",
   "metadata": {},
   "source": [
    "### 2.4.3 二维张量转置"
   ]
  },
  {
   "cell_type": "code",
   "execution_count": 54,
   "metadata": {},
   "outputs": [
    {
     "name": "stdout",
     "output_type": "stream",
     "text": [
      "tensor([[2, 7, 3],\n",
      "        [1, 6, 7]])\n",
      "tensor([[2, 1],\n",
      "        [7, 6],\n",
      "        [3, 7]])\n"
     ]
    }
   ],
   "source": [
    "# torch.t()\n",
    "inputTensor = torch.randint(0, 9, size=(2, 3))\n",
    "print(inputTensor)\n",
    "print(torch.t(inputTensor))\n"
   ]
  },
  {
   "cell_type": "markdown",
   "metadata": {},
   "source": [
    "## 2.5 张量的数学计算"
   ]
  },
  {
   "cell_type": "markdown",
   "metadata": {},
   "source": [
    "### 2.5.1 加法"
   ]
  },
  {
   "cell_type": "code",
   "execution_count": 56,
   "metadata": {},
   "outputs": [
    {
     "name": "stdout",
     "output_type": "stream",
     "text": [
      "tensor([[1, 1, 4],\n",
      "        [2, 6, 5]])\n",
      "tensor([[8, 2, 7],\n",
      "        [4, 8, 4]])\n",
      "tensor([[17,  5, 18],\n",
      "        [10, 22, 13]])\n"
     ]
    }
   ],
   "source": [
    "# torch.add(input, other, *, alpha=1, out=None)\n",
    "# input: 第一个张量     alpha: 乘项因子     other: 第二个张量\n",
    "input1 = torch.randint(0, 9, size=(2, 3))\n",
    "input2 = torch.randint(0, 9, size=(2, 3))\n",
    "print(input1)\n",
    "print(input2)\n",
    "print(torch.add(input=input1, other=input2, alpha=2))   # 计算 input1 + 2 * input2"
   ]
  },
  {
   "cell_type": "markdown",
   "metadata": {},
   "source": [
    "## 2.6 线性回归举例"
   ]
  },
  {
   "cell_type": "code",
   "execution_count": 69,
   "metadata": {},
   "outputs": [
    {
     "data": {
      "image/png": "[encoded data removed]",
      "text/plain": [
       "<Figure size 432x288 with 1 Axes>"
      ]
     },
     "metadata": {
      "needs_background": "light"
     },
     "output_type": "display_data"
    },
    {
     "data": {
      "image/png": "[encoded data removed]",
      "text/plain": [
       "<Figure size 432x288 with 1 Axes>"
      ]
     },
     "metadata": {
      "needs_background": "light"
     },
     "output_type": "display_data"
    },
    {
     "data": {
      "image/png": "[encoded data removed]",
      "text/plain": [
       "<Figure size 432x288 with 1 Axes>"
      ]
     },
     "metadata": {
      "needs_background": "light"
     },
     "output_type": "display_data"
    },
    {
     "data": {
      "image/png": "[encoded data removed]",
      "text/plain": [
       "<Figure size 432x288 with 1 Axes>"
      ]
     },
     "metadata": {
      "needs_background": "light"
     },
     "output_type": "display_data"
    },
    {
     "data": {
      "image/png": "[encoded data removed]",
      "text/plain": [
       "<Figure size 432x288 with 1 Axes>"
      ]
     },
     "metadata": {
      "needs_background": "light"
     },
     "output_type": "display_data"
    }
   ],
   "source": [
    "import torch\n",
    "import matplotlib.pyplot as plt     # 用于绘图\n",
    "torch.manual_seed(10)               # 设置随机数种子，种子被设定后，无论第几次运行程序，生成的随机数都是相同的\n",
    "\n",
    "alpha = 0.05                        # 学习率\n",
    "\n",
    "# 创建训练数据\n",
    "x = torch.rand(20, 1) * 10          # x data (tensor), shape=(20, 1)\n",
    "noise = torch.randn(20, 1)          # 生成噪声， torch.randn(size) 用于生成付出标准正态分布的数据\n",
    "y = 2 * x + 5 + noise  # y data (tensor), shape=(20, 1)    y=2x+5+噪声\n",
    "\n",
    "# 初始化值\n",
    "w = torch.randn(1, requires_grad=True)  # 设置梯度求解为 true\n",
    "b = torch.zeros(1, requires_grad=True)  # 设置梯度求解为 true\n",
    "\n",
    "# 迭代训练\n",
    "for iteration in range(1000):\n",
    "\n",
    "    # 前向传播，计算预测值\n",
    "    wx = torch.mul(w, x)\n",
    "    y_pred = torch.add(wx, b)\n",
    "\n",
    "    # 计算损失函数\n",
    "    loss = (0.5 * (y - y_pred) ** 2).mean()\n",
    "\n",
    "    # 反向传播\n",
    "    loss.backward()\n",
    "\n",
    "    # 更新参数\n",
    "    w.data.sub_(other=w.grad, alpha=alpha)\n",
    "    b.data.sub_(other=b.grad, alpha=alpha)\n",
    "\n",
    "    # 每次更新参数之后，都要清零梯度\n",
    "\n",
    "    w.grad.zero_()\n",
    "    b.grad.zero_()\n",
    "\n",
    "    # 绘图\n",
    "    if iteration % 20 == 0:\n",
    "        plt.scatter(x.data.numpy(), y.data.numpy())         # 绘制散点图\n",
    "        plt.plot(x.data.numpy(), y_pred.data.numpy())       # 根据 x 和 y_pred 绘制直线\n",
    "        plt.text(2, 20, 'LOSS=%.4f' % loss.data.numpy(), fontdict={'size' : 20, 'color' : 'red'})\n",
    "                                                            # 图中标注\n",
    "        plt.xlim(1, 10)                                     # 绘制 x 轴 min 和 max\n",
    "        plt.ylim(8, 28)                                     # 绘制 y 轴 min 和 max\n",
    "        plt.title('Iteration: {}\\nw: {} b: {}'.format(iteration, w.data.numpy(), b.data.numpy()))\n",
    "        plt.pause(0.5)\n",
    "\n",
    "        # 如果 MSE 小于 1，则停止训练\n",
    "        if loss.data.numpy() < 1:\n",
    "            break;\n"
   ]
  },
  {
   "cell_type": "code",
   "execution_count": null,
   "metadata": {},
   "outputs": [],
   "source": []
  },
  {
   "cell_type": "code",
   "execution_count": null,
   "metadata": {},
   "outputs": [],
   "source": []
  }
 ],
 "metadata": {
  "interpreter": {
   "hash": "a8f61be024eba58adef938c9aa1e29e02cb3dece83a5348b1a2dafd16a070453"
  },
  "kernelspec": {
   "display_name": "Python 3.8.8 64-bit ('base': conda)",
   "name": "python3"
  },
  "language_info": {
   "codemirror_mode": {
    "name": "ipython",
    "version": 3
   },
   "file_extension": ".py",
   "mimetype": "text/x-python",
   "name": "python",
   "nbconvert_exporter": "python",
   "pygments_lexer": "ipython3",
   "version": "3.8.8"
  },
  "orig_nbformat": 4
 },
 "nbformat": 4,
 "nbformat_minor": 2
}
