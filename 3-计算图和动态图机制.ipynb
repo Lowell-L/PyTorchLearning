{
 "cells": [
  {
   "cell_type": "markdown",
   "metadata": {},
   "source": [
    "# 3 计算图和动态图机制"
   ]
  },
  {
   "cell_type": "markdown",
   "metadata": {},
   "source": [
    "## 3.1 计算图\n",
    "\n",
    "### 3.1.1 计算图的定义\n",
    "深度学习就是对张量进行一系列的操作，随着操作种类和数量的增多，会出现各种值得思考的问题。\n",
    "<br>比如多个操作之间是否可以并行，如何协同底层的不同设备，如何避免冗余的操作，以实现最高效的计算效率，同时避免一些 bug。\n",
    "<br>因此产生了计算图 (Computational Graph)。\n",
    "计算图是用来描述运算的有向无环图，有两个主要元素：节点 (Node) 和边 (Edge)。\n",
    "<br>节点表示数据，如向量、矩阵、张量。边表示运算，如加减乘除卷积等。\n",
    "<br>用计算图表示：$y=(x+w)*(w+1)$，如下所示：\n",
    "\n",
    "![](https://image.zhangxiann.com/20200515221509.png)\n"
   ]
  },
  {
   "cell_type": "markdown",
   "metadata": {},
   "source": [
    "## 3.1.2 计算图与梯度求导"
   ]
  },
  {
   "cell_type": "markdown",
   "metadata": {},
   "source": [
    "上图中$y=(x+w)*(w+1)$可以看作$y=a \\times b$ ，其中 $a=x+w$，$b=w+1$。\n",
    "<br>这里求 $y$ 对 $w$ 的导数：\n",
    "$\\begin{aligned} \\frac{\\partial y}{\\partial w} &=\\frac{\\partial y}{\\partial a} \\frac{\\partial a}{\\partial w}+\\frac{\\partial y}{\\partial b} \\frac{\\partial b}{\\partial w} \\ &=b  1+a  1 \\ &=b+a \\ &=(w+1)+(x+w) \\ &=2  w+x+1 \\ &=2  1+2+1=5\\end{aligned}$\n",
    "<br>体现到计算图中，就是根节点 $y$ 到叶子节点 $w$ 有两条路径 y -> a -> w和y ->b -> w。根节点依次对每条路径的孩子节点求导，一直到叶子节点w，最后把每条路径的导数相加即可。\n",
    "![](https://image.zhangxiann.com/20200515221816.png)\n",
    "<br>代码如下："
   ]
  },
  {
   "cell_type": "code",
   "execution_count": 3,
   "metadata": {},
   "outputs": [
    {
     "name": "stdout",
     "output_type": "stream",
     "text": [
      "torch.int64\n",
      "torch.int64\n"
     ]
    }
   ],
   "source": [
    "import torch\n",
    "w = torch.tensor([1])\n",
    "x = torch.tensor([2])\n",
    "print(w.dtype)\n",
    "print(x.dtype)\n",
    "a = torch.add(w, x)\n",
    "b = torch.add(w, 1)\n",
    "y = torch.multiply(a, b)\n",
    "\n",
    "#y.backward()\n",
    "\n",
    "# print(w.grad)"
   ]
  },
  {
   "cell_type": "markdown",
   "metadata": {},
   "source": []
  }
 ],
 "metadata": {
  "interpreter": {
   "hash": "a8f61be024eba58adef938c9aa1e29e02cb3dece83a5348b1a2dafd16a070453"
  },
  "kernelspec": {
   "display_name": "Python 3.8.8 64-bit ('base': conda)",
   "language": "python",
   "name": "python3"
  },
  "language_info": {
   "codemirror_mode": {
    "name": "ipython",
    "version": 3
   },
   "file_extension": ".py",
   "mimetype": "text/x-python",
   "name": "python",
   "nbconvert_exporter": "python",
   "pygments_lexer": "ipython3",
   "version": "3.8.8"
  },
  "orig_nbformat": 4
 },
 "nbformat": 4,
 "nbformat_minor": 2
}
