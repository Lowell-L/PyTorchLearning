{
 "cells": [
  {
   "cell_type": "markdown",
   "metadata": {},
   "source": [
    "# Numpy 基础知识"
   ]
  },
  {
   "cell_type": "markdown",
   "metadata": {},
   "source": [
    "Numpy 提供多维数组对象，其核心是 **ndarry 对象，它封装了相同数据类型的 n 维数组。**\n",
    "<br>Numpy 数组与标准的 python 数组具有以下区别：\n",
    "<br>    1. Numpy 数组在创建时**具有固定大小**。更改 ndarry 的大小将创建一个新的数组并删除原值。\n",
    "<br>    2. Numpy 数组中的元素**具有相同的数据类型**。"
   ]
  },
  {
   "cell_type": "markdown",
   "metadata": {},
   "source": [
    "**在 Numpy 中，维度叫做轴，轴的个数叫做秩。**\n",
    "<br>如 [1, 2, 3] 是一个秩为 1 的数组。\n",
    "<br>如 [[1, 2, 3], \n",
    "    [4, 5, 6,]] 是一个秩为 2 的数组。"
   ]
  },
  {
   "cell_type": "markdown",
   "metadata": {},
   "source": [
    "## Numpy 数组的属性\n",
    "1. .shape\n",
    "2. .ndim\n",
    "3. .dtype.name\n",
    "4. itemsize\n",
    "5. size"
   ]
  },
  {
   "cell_type": "code",
   "execution_count": 8,
   "metadata": {},
   "outputs": [],
   "source": [
    "import numpy as np\n",
    "\n",
    "a = np.arange(15).reshape(3,5)  # 创建 numpy.ndarray 数组"
   ]
  },
  {
   "cell_type": "code",
   "execution_count": 4,
   "metadata": {},
   "outputs": [
    {
     "name": "stdout",
     "output_type": "stream",
     "text": [
      "(3, 5)\n"
     ]
    }
   ],
   "source": [
    "print(a.shape)  # 输出数组在每个维度上的大小，如一个 m 排 n 列的数组输出 （m, n）"
   ]
  },
  {
   "cell_type": "code",
   "execution_count": 5,
   "metadata": {},
   "outputs": [
    {
     "name": "stdout",
     "output_type": "stream",
     "text": [
      "2\n"
     ]
    }
   ],
   "source": [
    "print(a.ndim)   # 输出数组的维度"
   ]
  },
  {
   "cell_type": "code",
   "execution_count": 6,
   "metadata": {},
   "outputs": [
    {
     "name": "stdout",
     "output_type": "stream",
     "text": [
      "int32\n"
     ]
    }
   ],
   "source": [
    "print(a.dtype.name) # 数组元素的类型"
   ]
  },
  {
   "cell_type": "code",
   "execution_count": 7,
   "metadata": {},
   "outputs": [
    {
     "name": "stdout",
     "output_type": "stream",
     "text": [
      "4\n"
     ]
    }
   ],
   "source": [
    "print(a.itemsize)   # 数组元素的字节大小"
   ]
  },
  {
   "cell_type": "code",
   "execution_count": 9,
   "metadata": {},
   "outputs": [
    {
     "name": "stdout",
     "output_type": "stream",
     "text": [
      "15\n"
     ]
    }
   ],
   "source": [
    "print(a.size)   # 数组元素的个数"
   ]
  },
  {
   "cell_type": "code",
   "execution_count": 10,
   "metadata": {},
   "outputs": [
    {
     "data": {
      "text/plain": [
       "numpy.ndarray"
      ]
     },
     "execution_count": 10,
     "metadata": {},
     "output_type": "execute_result"
    }
   ],
   "source": [
    "type(a)"
   ]
  },
  {
   "cell_type": "markdown",
   "metadata": {},
   "source": [
    "## 创建数组\n",
    "1. 使用 python 的列表或元组 np.array()。可以指定数据类型。\n",
    "2. 使用占位符 np.zeros()、np.ones()、np.empty()。可以指定数据类型。\n",
    "3. np.empty() 随机输出。\n",
    "4. np.arange([start], stop, [step])\n",
    "5. np.linspace([start], stop, [num])"
   ]
  },
  {
   "cell_type": "markdown",
   "metadata": {},
   "source": [
    "1. 使用 python 列表和元组构建数组，所创建的数组由原序列中的元素类型推导而来。"
   ]
  },
  {
   "cell_type": "code",
   "execution_count": 14,
   "metadata": {},
   "outputs": [
    {
     "name": "stdout",
     "output_type": "stream",
     "text": [
      "<class 'numpy.ndarray'>\n"
     ]
    }
   ],
   "source": [
    "b = np.array([1.5, 37.8, 99.1])\n",
    "print(b)\n",
    "print(type(b))"
   ]
  },
  {
   "cell_type": "code",
   "execution_count": 17,
   "metadata": {},
   "outputs": [
    {
     "name": "stdout",
     "output_type": "stream",
     "text": [
      "[[ 1. +0.j  3. +0.j  2. +0.j]\n",
      " [12. +0.j  3.4+0.j 56. +0.j]]\n",
      "<class 'numpy.ndarray'>\n",
      "complex128\n"
     ]
    }
   ],
   "source": [
    "c = np.array([[1, 3, 2], [12, 3.4, 56]], dtype=complex)\n",
    "print(c)\n",
    "print(type(c))\n",
    "print(c.dtype.name)"
   ]
  },
  {
   "cell_type": "markdown",
   "metadata": {},
   "source": [
    "2. 使用占位符创建数组。例如 zeros()、ones()、empty()，默认创建的数组类型是 float64"
   ]
  },
  {
   "cell_type": "code",
   "execution_count": 24,
   "metadata": {},
   "outputs": [
    {
     "name": "stdout",
     "output_type": "stream",
     "text": [
      "[[0. 0. 0.]\n",
      " [0. 0. 0.]]\n",
      "float64\n"
     ]
    }
   ],
   "source": [
    "d = np.zeros((2,3))  # 注意参数只有一个！要括起来！\n",
    "print(d)\n",
    "print(d.dtype.name)"
   ]
  },
  {
   "cell_type": "code",
   "execution_count": 26,
   "metadata": {},
   "outputs": [
    {
     "name": "stdout",
     "output_type": "stream",
     "text": [
      "[[[1 1]\n",
      "  [1 1]]\n",
      "\n",
      " [[1 1]\n",
      "  [1 1]]]\n"
     ]
    }
   ],
   "source": [
    "# 同样可以指定数据类型\n",
    "print(np.ones((2, 2, 2), dtype=np.int16))"
   ]
  },
  {
   "cell_type": "code",
   "execution_count": 33,
   "metadata": {},
   "outputs": [
    {
     "name": "stdout",
     "output_type": "stream",
     "text": [
      "[[ 1.   0.   3.   0. ]\n",
      " [ 2.   0.  12.   0. ]\n",
      " [ 3.4  0.  56.   0. ]]\n"
     ]
    }
   ],
   "source": [
    "print(np.empty((3, 4)))   # 随机输出"
   ]
  },
  {
   "cell_type": "markdown",
   "metadata": {},
   "source": [
    "3. 使用 `np.arange()` 和 `np.linspace()` 函数："
   ]
  },
  {
   "cell_type": "code",
   "execution_count": 34,
   "metadata": {},
   "outputs": [
    {
     "name": "stdout",
     "output_type": "stream",
     "text": [
      "[1.  1.2 1.4 1.6 1.8]\n"
     ]
    }
   ],
   "source": [
    "# np.arange([start], stop, [step]) 选择 [start, stop) 的元素，步长为 step，step 可以是浮点数。\n",
    "e = np.arange(1, 2, 0.2)\n",
    "print(e)"
   ]
  },
  {
   "cell_type": "code",
   "execution_count": 35,
   "metadata": {},
   "outputs": [
    {
     "name": "stdout",
     "output_type": "stream",
     "text": [
      "[1.   1.25 1.5  1.75 2.  ]\n"
     ]
    }
   ],
   "source": [
    "# 当使用浮点数做参数时，由于浮点数精度有限，通常使用 np.linspace() 函数替代\n",
    "# np.linspace(start, stop, num)\n",
    "\n",
    "e = np.linspace(1, 2, 5)\n",
    "print(e)"
   ]
  },
  {
   "cell_type": "markdown",
   "metadata": {},
   "source": [
    "## 基本运算\n",
    "1. 按照元素位置执行，创建新的数组存储运算结果。例如 + - * **等。\n",
    "2. 矩阵乘法使用 A.dot(B) 或者 dot(A, B) 实现。\n",
    "3. 有些操作符像 `+=` 或者 `*=` 被用来更改已存在的数组而不会创建新的数组，因此要注意类型的兼容问题。\n",
    "4. 当运算数组类型不同时，结果会以更精确的方式存储。（upcast）\n",
    "6. 统计类运算，例如 .sum()、.max()、.min()等，对数组的形状不敏感，将多维数组视为一维数组。当指定 axis 参数时，可以把运算应用到数组指定的轴上。"
   ]
  },
  {
   "cell_type": "markdown",
   "metadata": {},
   "source": [
    "Numpy 中数组的算术运算是**按照元素位置执行的**，运算会**创建新的数组并且填充相应位置的结果**。"
   ]
  },
  {
   "cell_type": "code",
   "execution_count": 44,
   "metadata": {},
   "outputs": [
    {
     "name": "stdout",
     "output_type": "stream",
     "text": [
      "[0 1 2 3]\n",
      "[  0  30  80 150]\n",
      "[20 29 38 47]\n",
      "[0 1 4 9]\n"
     ]
    }
   ],
   "source": [
    "a = np.array([20, 30, 40, 50])\n",
    "b = np.arange(4)\n",
    "print(b)        # [0 1 2 3]\n",
    "print(a * b)    # [  0  30  80 150]\n",
    "print(a - b)    # [20 29 38 47]\n",
    "print(b ** 2)   # [0 1 4 9]"
   ]
  },
  {
   "cell_type": "markdown",
   "metadata": {},
   "source": [
    "**矩阵乘法可以使用 dot 函数来实现。**"
   ]
  },
  {
   "cell_type": "code",
   "execution_count": 46,
   "metadata": {},
   "outputs": [
    {
     "name": "stdout",
     "output_type": "stream",
     "text": [
      "[[10  8]\n",
      " [12 16]]\n",
      "[[10  8]\n",
      " [12 16]]\n"
     ]
    }
   ],
   "source": [
    "A = np.array([[2, 0], \n",
    "              [0, 4]])\n",
    "B = np.array([[5, 4],\n",
    "              [3, 4]])\n",
    "print(A.dot(B))\n",
    "print(np.dot(A, B))"
   ]
  },
  {
   "cell_type": "markdown",
   "metadata": {},
   "source": [
    "有些操作符像 `+=` 或者 `*=` 被用来**更改已存在的数组而不会创建新的数组，因此要注意类型的兼容问题**。\n",
    "<br>**当运算数组类型不同时，结果会以更精确的方式存储。（upcast）**"
   ]
  },
  {
   "cell_type": "code",
   "execution_count": 48,
   "metadata": {},
   "outputs": [
    {
     "name": "stdout",
     "output_type": "stream",
     "text": [
      "[[1 1 1]\n",
      " [1 1 1]]\n",
      "[[0.04998007 0.04737309 0.93128824]\n",
      " [0.4687835  0.53326683 0.29597713]]\n"
     ]
    }
   ],
   "source": [
    "C = np.ones((2, 3), dtype=int)\n",
    "D = np.random.random((2, 3))        # dtype = float\n",
    "print(C)\n",
    "print(D)"
   ]
  },
  {
   "cell_type": "code",
   "execution_count": 49,
   "metadata": {},
   "outputs": [
    {
     "name": "stdout",
     "output_type": "stream",
     "text": [
      "[[1.04998007 1.04737309 1.93128824]\n",
      " [1.4687835  1.53326683 1.29597713]]\n"
     ]
    }
   ],
   "source": [
    "D += C\n",
    "print(D)    # D 的内部数据被改变"
   ]
  },
  {
   "cell_type": "code",
   "execution_count": 50,
   "metadata": {},
   "outputs": [
    {
     "name": "stdout",
     "output_type": "stream",
     "text": [
      "[[3 3 3]\n",
      " [3 3 3]]\n"
     ]
    }
   ],
   "source": [
    "C *= 3\n",
    "print(C)    # C 的内部数据被改变"
   ]
  },
  {
   "cell_type": "code",
   "execution_count": 51,
   "metadata": {},
   "outputs": [
    {
     "ename": "UFuncTypeError",
     "evalue": "Cannot cast ufunc 'add' output from dtype('float64') to dtype('int32') with casting rule 'same_kind'",
     "output_type": "error",
     "traceback": [
      "\u001b[1;31m---------------------------------------------------------------------------\u001b[0m",
      "\u001b[1;31mUFuncTypeError\u001b[0m                            Traceback (most recent call last)",
      "\u001b[1;32m<ipython-input-51-e2a5720c3fbc>\u001b[0m in \u001b[0;36m<module>\u001b[1;34m\u001b[0m\n\u001b[1;32m----> 1\u001b[1;33m \u001b[0mC\u001b[0m \u001b[1;33m+=\u001b[0m \u001b[0mD\u001b[0m\u001b[1;33m\u001b[0m\u001b[1;33m\u001b[0m\u001b[0m\n\u001b[0m\u001b[0;32m      2\u001b[0m \u001b[0mprint\u001b[0m\u001b[1;33m(\u001b[0m\u001b[0mC\u001b[0m\u001b[1;33m)\u001b[0m\u001b[1;33m\u001b[0m\u001b[1;33m\u001b[0m\u001b[0m\n",
      "\u001b[1;31mUFuncTypeError\u001b[0m: Cannot cast ufunc 'add' output from dtype('float64') to dtype('int32') with casting rule 'same_kind'"
     ]
    }
   ],
   "source": [
    "C += D\n",
    "print(C)    # 由于 C 的 dtype 是 int，D 的 dtype 是 float，不符合 upcast"
   ]
  },
  {
   "cell_type": "code",
   "execution_count": 54,
   "metadata": {},
   "outputs": [
    {
     "name": "stdout",
     "output_type": "stream",
     "text": [
      "int32\n",
      "float64\n",
      "float64\n"
     ]
    }
   ],
   "source": [
    "print(C.dtype.name)\n",
    "print(D.dtype.name)\n",
    "E = C + D\n",
    "print(E.dtype.name) # 以更精确的数据类型存储结果"
   ]
  },
  {
   "cell_type": "markdown",
   "metadata": {},
   "source": [
    "ndarray 类提供统计类运算，比如对数组所有元素求和，求最大值、最小值。这些运算**默认应用到数组是对数组的形状不敏感的**。当指定 axis 参数时，可以把运算应用到数组指定的轴上。"
   ]
  },
  {
   "cell_type": "code",
   "execution_count": 55,
   "metadata": {},
   "outputs": [
    {
     "name": "stdout",
     "output_type": "stream",
     "text": [
      "[[0.96306832 0.12666451]\n",
      " [0.8609113  0.54356207]\n",
      " [0.65792257 0.82551705]]\n"
     ]
    }
   ],
   "source": [
    "a = np.random.random((3, 2))\n",
    "print(a)"
   ]
  },
  {
   "cell_type": "code",
   "execution_count": 57,
   "metadata": {},
   "outputs": [
    {
     "name": "stdout",
     "output_type": "stream",
     "text": [
      "3.9776458110964916\n",
      "0.9630683157588489\n",
      "0.12666451057104278\n"
     ]
    }
   ],
   "source": [
    "print(a.sum())\n",
    "print(a.max())\n",
    "print(a.min())"
   ]
  },
  {
   "cell_type": "code",
   "execution_count": 58,
   "metadata": {},
   "outputs": [
    {
     "name": "stdout",
     "output_type": "stream",
     "text": [
      "[[ 0  1  2  3]\n",
      " [ 4  5  6  7]\n",
      " [ 8  9 10 11]]\n"
     ]
    }
   ],
   "source": [
    "b = np.arange(12).reshape(3,4)\n",
    "print(b)"
   ]
  },
  {
   "cell_type": "code",
   "execution_count": 68,
   "metadata": {},
   "outputs": [
    {
     "data": {
      "text/plain": [
       "array([ 8,  9, 10, 11])"
      ]
     },
     "execution_count": 68,
     "metadata": {},
     "output_type": "execute_result"
    }
   ],
   "source": [
    "b.max(axis=0)   # 对于二维数组来说，axis=0 表示按列，"
   ]
  },
  {
   "cell_type": "code",
   "execution_count": 69,
   "metadata": {},
   "outputs": [
    {
     "data": {
      "text/plain": [
       "array([0, 4, 8])"
      ]
     },
     "execution_count": 69,
     "metadata": {},
     "output_type": "execute_result"
    }
   ],
   "source": [
    "b.min(axis=1)   # axis=1表示按行"
   ]
  },
  {
   "cell_type": "code",
   "execution_count": 74,
   "metadata": {},
   "outputs": [
    {
     "name": "stdout",
     "output_type": "stream",
     "text": [
      "[[[ 0  1  2]\n",
      "  [ 3  4  5]]\n",
      "\n",
      " [[ 6  7  8]\n",
      "  [ 9 10 11]]]\n"
     ]
    }
   ],
   "source": [
    "c = np.arange(0, 12).reshape(2, 2, 3)\n",
    "print(c)"
   ]
  },
  {
   "cell_type": "code",
   "execution_count": 78,
   "metadata": {},
   "outputs": [
    {
     "name": "stdout",
     "output_type": "stream",
     "text": [
      "[[ 6  7  8]\n",
      " [ 9 10 11]]\n",
      "[[0 1 2]\n",
      " [6 7 8]]\n",
      "[[ 3 12]\n",
      " [21 30]]\n"
     ]
    }
   ],
   "source": [
    "print(c.max(0))\n",
    "print(c.min(1))\n",
    "print(c.sum(2)) # ？？？？？"
   ]
  },
  {
   "cell_type": "markdown",
   "metadata": {},
   "source": [
    "## 多维数组的索引、切片、迭代（没看完）"
   ]
  },
  {
   "cell_type": "code",
   "execution_count": 89,
   "metadata": {},
   "outputs": [
    {
     "name": "stdout",
     "output_type": "stream",
     "text": [
      "23\n",
      "[ 1 11 21 31 41]\n",
      "[ 1 11 21 31 41]\n",
      "[40 41 42 43]\n"
     ]
    }
   ],
   "source": [
    "b = np.array([[0, 1, 2, 3], \n",
    "              [10, 11, 12, 13],\n",
    "              [20, 21, 22, 23],\n",
    "              [30, 31, 32, 33],\n",
    "              [40, 41, 42, 43]])\n",
    "print(b[2, 3])  # 第 2 行第 3 列的元素，注意行列计数从零开始！\n",
    "print(b[0:5, 1])    # 第 0 行到第 4 行的第 1 列元素\n",
    "print(b[:, 1])      # 等价于 b[0:5, 1]\n",
    "print(b[-1])     # 输出最后一行，等价于 b[-1, :]，等价于 b[1, ...]"
   ]
  },
  {
   "cell_type": "code",
   "execution_count": 93,
   "metadata": {},
   "outputs": [
    {
     "name": "stdout",
     "output_type": "stream",
     "text": [
      "[  0   1   4   9  16  25  36  49  64  81 100 121]\n",
      "[ 1  1  9 64 25]\n"
     ]
    }
   ],
   "source": [
    "# 通过数组索引\n",
    "a = np.arange(12) ** 2\n",
    "print(a)\n",
    "i = np.array([1, 1, 3, 8, 5])\n",
    "print(a[i])     # 通过数组索引，输出数组中每一个元素在 ndarry 数组对应位置的元素"
   ]
  },
  {
   "cell_type": "code",
   "execution_count": 96,
   "metadata": {},
   "outputs": [
    {
     "name": "stdout",
     "output_type": "stream",
     "text": [
      "[[3 4]\n",
      " [9 7]]\n",
      "[[ 9 16]\n",
      " [81 49]]\n"
     ]
    }
   ],
   "source": [
    "j = np.array([[3, 4], [9, 7]])\n",
    "print(j)\n",
    "print(a[j])"
   ]
  },
  {
   "cell_type": "code",
   "execution_count": 97,
   "metadata": {},
   "outputs": [
    {
     "name": "stdout",
     "output_type": "stream",
     "text": [
      "[[[  0   0   0]\n",
      "  [255   0   0]\n",
      "  [  0 255   0]\n",
      "  [  0   0   0]]\n",
      "\n",
      " [[  0   0   0]\n",
      "  [  0   0 255]\n",
      "  [255 255 255]\n",
      "  [  0   0   0]]]\n"
     ]
    }
   ],
   "source": [
    "# 当被索引数组是多维数组时，每一个唯一的索引数列指向此多维数组的第一维\n",
    "palette = np.array([    [0, 0, 0],\n",
    "                        [255, 0, 0],\n",
    "                        [0, 255, 0],\n",
    "                        [0, 0, 255],\n",
    "                        [255, 255, 255],\n",
    "                   ])\n",
    "image = np.array([\n",
    "                    [0, 1, 2, 0],\n",
    "                    [0, 3, 4, 0]\n",
    "                 ])\n",
    "print(palette[image])   # image 中的两个四维向量生成了两个含有 4 个元素的数组，其中每个元素是 image 数组中的四维向量中的元素在 palette 数组中对应行的向量，也即，指向第一维"
   ]
  },
  {
   "cell_type": "markdown",
   "metadata": {},
   "source": [
    "## 改变数组的形状\n",
    "1. a.ravel() 返回扁平化数组\n",
    "2. a.shape  返回数组的形状属性\n",
    "3. a.reshape(x, y) 创建一个新的数组并返回 形状重塑为 x 行 y 列\n",
    "4. a.T a矩阵的转置\n",
    "5. a.resize(x, y) 将 a 矩阵形状重塑为 x 行 y 列，并不会创建新数组"
   ]
  },
  {
   "cell_type": "code",
   "execution_count": 115,
   "metadata": {},
   "outputs": [
    {
     "name": "stdout",
     "output_type": "stream",
     "text": [
      "[[5. 1. 1. 5.]\n",
      " [3. 5. 5. 5.]\n",
      " [7. 2. 3. 5.]]\n",
      "(3, 4)\n",
      "[5. 1. 1. 5. 3. 5. 5. 5. 7. 2. 3. 5.]\n",
      "[[5. 1. 1. 5.]\n",
      " [3. 5. 5. 5.]\n",
      " [7. 2. 3. 5.]]\n"
     ]
    }
   ],
   "source": [
    "a = np.floor(10 * np.random.random((3, 4)))\n",
    "print(a)\n",
    "print(a.shape)\n",
    "b = a.ravel()   # 返回扁平化数组，a 矩阵本身并未改变\n",
    "print(b)\n",
    "print(a)"
   ]
  },
  {
   "cell_type": "code",
   "execution_count": 116,
   "metadata": {},
   "outputs": [
    {
     "name": "stdout",
     "output_type": "stream",
     "text": [
      "[[5. 1. 1.]\n",
      " [5. 3. 5.]\n",
      " [5. 5. 7.]\n",
      " [2. 3. 5.]]\n",
      "[[5. 1. 1. 5.]\n",
      " [3. 5. 5. 5.]\n",
      " [7. 2. 3. 5.]]\n"
     ]
    }
   ],
   "source": [
    "c = a.reshape(4, 3) # 返回按四行三列排布的数组，a 矩阵本身并未改变\n",
    "print(c)\n",
    "print(a)"
   ]
  },
  {
   "cell_type": "code",
   "execution_count": 109,
   "metadata": {},
   "outputs": [
    {
     "name": "stdout",
     "output_type": "stream",
     "text": [
      "[[3. 9. 9. 2.]\n",
      " [5. 1. 1. 8.]\n",
      " [6. 8. 0. 7.]]\n",
      "[[3. 5. 6.]\n",
      " [9. 1. 8.]\n",
      " [9. 1. 0.]\n",
      " [2. 8. 7.]]\n",
      "(4, 3)\n"
     ]
    }
   ],
   "source": [
    "print(a)\n",
    "print(a.T)      # a 的转置\n",
    "print(a.T.shape)"
   ]
  },
  {
   "cell_type": "code",
   "execution_count": 117,
   "metadata": {},
   "outputs": [
    {
     "name": "stdout",
     "output_type": "stream",
     "text": [
      "[[5. 1. 1. 5. 3. 5.]\n",
      " [5. 5. 7. 2. 3. 5.]]\n"
     ]
    }
   ],
   "source": [
    "a.resize((2, 6))\n",
    "print(a)    # a 矩阵本身被改变！"
   ]
  },
  {
   "cell_type": "code",
   "execution_count": null,
   "metadata": {},
   "outputs": [],
   "source": []
  }
 ],
 "metadata": {
  "interpreter": {
   "hash": "a8f61be024eba58adef938c9aa1e29e02cb3dece83a5348b1a2dafd16a070453"
  },
  "kernelspec": {
   "display_name": "Python 3.8.8 64-bit ('base': conda)",
   "name": "python3"
  },
  "language_info": {
   "codemirror_mode": {
    "name": "ipython",
    "version": 3
   },
   "file_extension": ".py",
   "mimetype": "text/x-python",
   "name": "python",
   "nbconvert_exporter": "python",
   "pygments_lexer": "ipython3",
   "version": "3.8.8"
  },
  "orig_nbformat": 4
 },
 "nbformat": 4,
 "nbformat_minor": 2
}
